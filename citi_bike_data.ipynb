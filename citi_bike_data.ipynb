{
 "cells": [
  {
   "cell_type": "code",
   "execution_count": 28,
   "id": "64bb79e0",
   "metadata": {},
   "outputs": [],
   "source": [
    "import pandas as pd\n",
    "from functools import reduce"
   ]
  },
  {
   "cell_type": "code",
   "execution_count": 29,
   "id": "ead5283e",
   "metadata": {},
   "outputs": [],
   "source": [
    "df1 = pd.read_csv(\"/Users/tanishacooper/code/citi_bike_tableau/Resources/JC-202201-citibike-tripdata.csv\", sep=',')\n",
    "df2 = pd.read_csv(\"/Users/tanishacooper/code/citi_bike_tableau/Resources/JC-202202-citibike-tripdata.csv\", sep=',')\n",
    "df3 = pd.read_csv(\"/Users/tanishacooper/code/citi_bike_tableau/Resources/JC-202203-citibike-tripdata.csv\", sep=',')\n",
    "df4 = pd.read_csv(\"/Users/tanishacooper/code/citi_bike_tableau/Resources/JC-202204-citibike-tripdata.csv\", sep=',')\n",
    "df5 = pd.read_csv(\"/Users/tanishacooper/code/citi_bike_tableau/Resources/JC-202205-citibike-tripdata.csv\", sep=',')\n",
    "df6 = pd.read_csv(\"/Users/tanishacooper/code/citi_bike_tableau/Resources/JC-202206-citibike-tripdata.csv\", sep=',')"
   ]
  },
  {
   "cell_type": "code",
   "execution_count": 30,
   "id": "dd5be5e9",
   "metadata": {},
   "outputs": [],
   "source": [
    "data_frames = pd.concat([df1,df2,df3,df4,df5,df6])"
   ]
  },
  {
   "cell_type": "code",
   "execution_count": 31,
   "id": "1ee11c10",
   "metadata": {},
   "outputs": [],
   "source": [
    "pd.DataFrame.to_csv(data_frames, '/Users/tanishacooper/code/citi_bike_tableau/Resources/citi_bike_merge.csv')"
   ]
  },
  {
   "cell_type": "code",
   "execution_count": null,
   "id": "43da307c",
   "metadata": {},
   "outputs": [],
   "source": []
  }
 ],
 "metadata": {
  "kernelspec": {
   "display_name": "Python 3",
   "language": "python",
   "name": "python3"
  },
  "language_info": {
   "codemirror_mode": {
    "name": "ipython",
    "version": 3
   },
   "file_extension": ".py",
   "mimetype": "text/x-python",
   "name": "python",
   "nbconvert_exporter": "python",
   "pygments_lexer": "ipython3",
   "version": "3.6.10"
  }
 },
 "nbformat": 4,
 "nbformat_minor": 5
}
